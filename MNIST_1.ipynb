{
  "nbformat": 4,
  "nbformat_minor": 0,
  "metadata": {
    "colab": {
      "provenance": [],
      "authorship_tag": "ABX9TyNz2o4zAI5ZRT7ecSqA2Rog",
      "include_colab_link": true
    },
    "kernelspec": {
      "name": "python3",
      "display_name": "Python 3"
    },
    "language_info": {
      "name": "python"
    }
  },
  "cells": [
    {
      "cell_type": "markdown",
      "metadata": {
        "id": "view-in-github",
        "colab_type": "text"
      },
      "source": [
        "<a href=\"https://colab.research.google.com/github/stevec12/PyTorch-Learning/blob/main/MNIST_1.ipynb\" target=\"_parent\"><img src=\"https://colab.research.google.com/assets/colab-badge.svg\" alt=\"Open In Colab\"/></a>"
      ]
    },
    {
      "cell_type": "markdown",
      "source": [
        "## Setup"
      ],
      "metadata": {
        "id": "U-2d49W-uh93"
      }
    },
    {
      "cell_type": "code",
      "execution_count": 56,
      "metadata": {
        "id": "AOGHgM9wr3fF"
      },
      "outputs": [],
      "source": [
        "import numpy as np\n",
        "import torch\n",
        "import torch.nn as nn\n",
        "import torchvision\n",
        "import matplotlib.pyplot as plt\n",
        "from tqdm import tqdm"
      ]
    },
    {
      "cell_type": "code",
      "source": [
        "# Uses GPU if available to speed up PyTorch operations\n",
        "device = 'cuda' if torch.cuda.is_available() else 'cpu'\n",
        "\n",
        "# For Img Resolution, 14 or 28, set lower for testing\n",
        "img_size = 14"
      ],
      "metadata": {
        "id": "foNx86qBunmg"
      },
      "execution_count": 57,
      "outputs": []
    },
    {
      "cell_type": "code",
      "source": [
        "class MNIST(torch.utils.data.Dataset):\n",
        "  def __init__(self, n : int, img_size: int, train=True) -> None:\n",
        "    self.img_size = img_size\n",
        "    self.n = n\n",
        "    full_dataset = torchvision.datasets.MNIST('./data/', train=train, download = True,\n",
        "                           transform = torchvision.transforms.Compose([\n",
        "                               torchvision.transforms.Resize((img_size,img_size)),\n",
        "                               torchvision.transforms.ToTensor(),\n",
        "                               torchvision.transforms.Lambda((lambda x: torch.flatten(x)))\n",
        "                           ])) \n",
        "    dataset_n = torch.utils.data.Subset(full_dataset, range(self.n))\n",
        "    self.x = dataset_n\n",
        "\n",
        "  def __len__(self):\n",
        "    return len(self.x)\n",
        "  \n",
        "  def __getitem__(self,idx):\n",
        "    ''' \n",
        "    __getitem__(index) returns image and class for a sample\n",
        "    '''\n",
        "    x = self.x[idx][0]\n",
        "    t = self.x[idx][1]\n",
        "    return x, t\n"
      ],
      "metadata": {
        "id": "4cW62AnT2Kid"
      },
      "execution_count": 97,
      "outputs": []
    },
    {
      "cell_type": "code",
      "source": [
        "ds = MNIST(1024,14)"
      ],
      "metadata": {
        "id": "P1FHaH509z_N"
      },
      "execution_count": 59,
      "outputs": []
    },
    {
      "cell_type": "markdown",
      "source": [
        "## Create some plotting tools"
      ],
      "metadata": {
        "id": "d9nXivsJaEXD"
      }
    },
    {
      "cell_type": "code",
      "source": [
        "def draw(i: torch.Tensor, img_size: int = 28):\n",
        "  '''\n",
        "  i=[x,t] s.t.\n",
        "  draw(i, img_size) draws image for x, uses t as label\n",
        "  '''\n",
        "  x = i[0]\n",
        "  t = i[1]\n",
        "  plt.style.use('_mpl-gallery-nogrid')\n",
        "  fig, ax = plt.subplots()\n",
        "  formattedx = x.reshape((img_size,img_size)).detach().numpy()\n",
        "  ax.imshow(formattedx,cmap='gray')\n",
        "  plt.title(f'Class {t}')\n",
        "  plt.show()\n",
        "\n",
        "def drawIndices(idxs: list[int], fig: plt.figure, ds: MNIST, img_size: int) -> None:\n",
        "  '''\n",
        "  drawIndices(i,figure,ds) draws the given indices from ds, \n",
        "    using figure object. Plots axes in most \"square\" form.\n",
        "  '''\n",
        "\n",
        "  total_len = len(idxs)\n",
        "  ncols = int(np.floor(np.sqrt(total_len))) # Prefer less cols\n",
        "  nrows = int( np.ceil(np.sqrt(total_len)) )\n",
        "  if ncols*nrows < total_len:\n",
        "    nrows += 1\n",
        "  \n",
        "\n",
        "  axes = {}\n",
        "  for i in range(total_len):\n",
        "    axes[i] = fig.add_subplot(nrows,ncols,i+1)\n",
        "  \n",
        "  fig.subplots_adjust(hspace = .6)\n",
        "  for i in range(total_len):\n",
        "    x = ds[idxs[i]][0]\n",
        "    t = ds[idxs[i]][1]\n",
        "\n",
        "    formatted_x = x.reshape((img_size,img_size)).detach().numpy() \n",
        "    ax = axes[i]\n",
        "    ax.imshow(formatted_x, cmap='gray')\n",
        "\n",
        "    ax.set_title(f'Class {t}', size=8)\n",
        "    ax.axis('off')\n",
        "    \n",
        "  plt.show()"
      ],
      "metadata": {
        "id": "6de_g8NnCIzh"
      },
      "execution_count": 68,
      "outputs": []
    },
    {
      "cell_type": "code",
      "source": [
        "draw(ds[1],14)"
      ],
      "metadata": {
        "colab": {
          "base_uri": "https://localhost:8080/",
          "height": 202
        },
        "id": "2lRj_y9qB_0u",
        "outputId": "a7c07ce0-b40a-41be-a472-368db952558c"
      },
      "execution_count": 69,
      "outputs": [
        {
          "output_type": "display_data",
          "data": {
            "text/plain": [
              "<Figure size 144x144 with 1 Axes>"
            ],
            "image/png": "[encoded data removed]"
          },
          "metadata": {
            "needs_background": "light"
          }
        }
      ]
    },
    {
      "cell_type": "code",
      "source": [
        "# Print first 10 images\n",
        "fig = plt.figure()\n",
        "drawIndices(range(0,10),fig, ds, img_size)"
      ],
      "metadata": {
        "colab": {
          "base_uri": "https://localhost:8080/",
          "height": 185
        },
        "id": "zpJxpmxSCDHp",
        "outputId": "b1ce7d11-827c-4031-d456-e2a890a55101"
      },
      "execution_count": 70,
      "outputs": [
        {
          "output_type": "display_data",
          "data": {
            "text/plain": [
              "<Figure size 144x144 with 10 Axes>"
            ],
            "image/png": "[encoded data removed]"
          },
          "metadata": {
            "needs_background": "light"
          }
        }
      ]
    },
    {
      "cell_type": "markdown",
      "source": [
        "## Dataloaders"
      ],
      "metadata": {
        "id": "cTUJnNMTaHDR"
      }
    },
    {
      "cell_type": "code",
      "source": [
        "# Train batches\n",
        "batch_size_train = 128\n",
        "train_dl = torch.utils.data.DataLoader(ds, \n",
        "                                       batch_size = batch_size_train, shuffle=True)\n",
        "# Full dataset\n",
        "full_dl = torch.utils.data.DataLoader(ds, batch_size=1024, shuffle=False)"
      ],
      "metadata": {
        "id": "4AzRAjb8Rw4t"
      },
      "execution_count": 71,
      "outputs": []
    },
    {
      "cell_type": "markdown",
      "source": [
        "## Create Neural Network Model\n",
        "Simple linear model"
      ],
      "metadata": {
        "id": "qa-_rzlaarZE"
      }
    },
    {
      "cell_type": "code",
      "source": [
        "class MyNNet(nn.Module):\n",
        "  '''\n",
        "  Desc\n",
        "  '''\n",
        "  def __init__(self, input_size, output_size, loss_fcn=None):\n",
        "    super().__init__()\n",
        "    self.losses = []\n",
        "    self.loss_fcn = loss_fcn\n",
        "\n",
        "    self.net = nn.Sequential(nn.Linear(input_size, input_size),\n",
        "                                   nn.ReLU(),\n",
        "                                   nn.Linear(input_size, int(input_size/2)),\n",
        "                                   nn.ReLU(),\n",
        "                                   nn.Linear(int(input_size/2),input_size),\n",
        "                                   nn.ReLU(),\n",
        "                                   nn.Linear(input_size,output_size))\n",
        "    \n",
        "\n",
        "  def forward(self, x):\n",
        "    return self.net(x)\n",
        "\n",
        "  def learn(self, dl, epochs=1000, lr=0.01, plot=True):\n",
        "    optim = torch.optim.SGD(self.parameters(), lr=lr, momentum=0.5)\n",
        "    for epoch in tqdm(range(epochs)):\n",
        "      total_loss = 0.\n",
        "      for x,t in dl:\n",
        "        # GPU Support for x\n",
        "        x.to(device)   \n",
        "        # One-hot t\n",
        "        t = torch.nn.functional.one_hot(\n",
        "            t.to(torch.long),num_classes=10).squeeze()\n",
        "        y = self(x)\n",
        "\n",
        "        ### Debug Code Begins\n",
        "        print(f'y shape: {y.shape}, t shape: {t.shape}')\n",
        "        print(f'y:{y}, t:{t}')\n",
        "        ### Debug Code Ends\n",
        "        \n",
        "        loss = self.loss_fcn(y,t.float())\n",
        "        optim.zero_grad()\n",
        "        loss.backward()\n",
        "        optim.step()\n",
        "        total_loss += loss.item()*len(t)\n",
        "      self.losses.append(total_loss/len(dl))\n",
        "    if plot:\n",
        "      plt.figure(figsize=(5,5))\n",
        "      plt.plot(self.losses);\n",
        "      plt.yscale('log')\n"
      ],
      "metadata": {
        "id": "kEg86aetabqg"
      },
      "execution_count": 93,
      "outputs": []
    },
    {
      "cell_type": "markdown",
      "source": [
        "## Model Setup and Training"
      ],
      "metadata": {
        "id": "B9CJM1J2XgRi"
      }
    },
    {
      "cell_type": "code",
      "source": [
        "# Model Setup\n",
        "in_size = len(next(iter(ds))[0])\n",
        "out_size = len(set(next(iter(full_dl))[1].detach().numpy()))\n",
        "loss = nn.CrossEntropyLoss()\n",
        "nnet1 = MyNNet(input_size=in_size, \n",
        "               output_size=out_size, loss_fcn=loss)"
      ],
      "metadata": {
        "id": "24R6forBiSwB"
      },
      "execution_count": 94,
      "outputs": []
    },
    {
      "cell_type": "code",
      "source": [
        "# Train Model\n",
        "nnet1.learn(train_dl, epochs=1000, lr=0.01, plot=True)"
      ],
      "metadata": {
        "id": "lITPDVuczynQ"
      },
      "execution_count": null,
      "outputs": []
    },
    {
      "cell_type": "code",
      "source": [
        "# Save Trained Model \n",
        "torch.save(nnet1.to(device), 'NNet1.pt')"
      ],
      "metadata": {
        "id": "V8W74oOsi11u"
      },
      "execution_count": 96,
      "outputs": []
    },
    {
      "cell_type": "markdown",
      "source": [
        "## Model testing"
      ],
      "metadata": {
        "id": "KnedEGYCXnTf"
      }
    },
    {
      "cell_type": "code",
      "source": [
        "# Get testing dataloader\n",
        "test_ds = MNIST(1024, 14, train = False)\n",
        "# Calculate Test Error\n",
        "correct = 0\n",
        "for x,t in test_ds:\n",
        "  pred = np.argmax(nnet1(x).detach().numpy())\n",
        "  if (pred == t):\n",
        "    correct += 1\n",
        "accuracy = correct/1024\n",
        "print(f'Model has {accuracy*100.}% accuracy WRT Test Data.')"
      ],
      "metadata": {
        "colab": {
          "base_uri": "https://localhost:8080/"
        },
        "id": "T09zW62-XwWm",
        "outputId": "ef116f6b-fb0c-411b-fa4e-2b91f5e1647f"
      },
      "execution_count": 116,
      "outputs": [
        {
          "output_type": "stream",
          "name": "stdout",
          "text": [
            "Model has 82.91015625% accuracy WRT Test Data.\n"
          ]
        }
      ]
    }
  ]
}